{
 "cells": [
  {
   "cell_type": "markdown",
   "metadata": {},
   "source": [
    "## References\n",
    "\n",
    "[Carlisle, Ford, Runge, _et al_ 2012 Assessing the comparative productivity advantage of bioenergy feedstocks at different latitudes _Environ. Res. Lett._ **7** 045906](https://doi.org/10.1088/1748-9326/7/4/045906)\n",
    "\n",
    "[Harris I., Jones P.D., Osborn T.J. and Lister D.H. 2014 Updated high-resolution grids of monthly climatic observations - the CRU TS3.10 Dataset. _International Journal of Climatology_ **34** 623-642](https://doi.org/10.1002/joc.3711)\n",
    "\n",
    "Lieth H. 1973 Primary production: Terrestrial ecosystems _Human Ecol._ **1** 303–332\n",
    "\n",
    "[Zaks D P M, Ramankutty N, Barford C C and Foley J A 2007 From Miami to Madison: investigating the relationship between climate and terrestrial net primary production _Glob. Biogeochem. Cycles_ **21** GB3004](https://agupubs.onlinelibrary.wiley.com/doi/abs/10.1029/2006GB002705)"
   ]
  },
  {
   "cell_type": "markdown",
   "metadata": {},
   "source": [
    "## Data\n",
    "\n",
    "[Monfreda, C., N. Ramankutty, and J.A. Foley (2008). Farming the planet. Part 2: Geographic distribution of crop areas, yields, physiological types, and net primary production in the year 2000. _**Global Biogeochemical Cycles**_ 22, GB1022, doi:10.1029/2007GB002947](https://s3-us-west-2.amazonaws.com/earthstat/earthstat/wp-content/uploads/filebase/cropareayieldtop/cropareayield/allcropsareayield/HarvestedAreaYield175Crops_NetCDF.zip)"
   ]
  }
 ],
 "metadata": {
  "kernelspec": {
   "display_name": "Python 3",
   "language": "python",
   "name": "python3"
  },
  "language_info": {
   "codemirror_mode": {
    "name": "ipython",
    "version": 3
   },
   "file_extension": ".py",
   "mimetype": "text/x-python",
   "name": "python",
   "nbconvert_exporter": "python",
   "pygments_lexer": "ipython3",
   "version": "3.6.4"
  }
 },
 "nbformat": 4,
 "nbformat_minor": 2
}
